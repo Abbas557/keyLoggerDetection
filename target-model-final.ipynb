{
 "cells": [
  {
   "cell_type": "code",
   "execution_count": 3,
   "id": "de74da02",
   "metadata": {
    "_cell_guid": "b1076dfc-b9ad-4769-8c92-a6c4dae69d19",
    "_uuid": "8f2839f25d086af736a60e9eeb907d3b93b6e0e5",
    "execution": {
     "iopub.execute_input": "2022-11-03T12:53:45.973222Z",
     "iopub.status.busy": "2022-11-03T12:53:45.972370Z",
     "iopub.status.idle": "2022-11-03T12:53:54.006439Z",
     "shell.execute_reply": "2022-11-03T12:53:54.005486Z"
    },
    "papermill": {
     "duration": 8.053987,
     "end_time": "2022-11-03T12:53:54.008986",
     "exception": false,
     "start_time": "2022-11-03T12:53:45.954999",
     "status": "completed"
    },
    "tags": []
   },
   "outputs": [],
   "source": [
    "import numpy as np\n",
    "import pandas as pd\n",
    "import matplotlib.pyplot as plt\n",
    "import seaborn as sns\n",
    "import plotly.express as px\n",
    "#import libraries\n",
    "from sklearn.feature_selection import SelectKBest,chi2, f_classif ,mutual_info_classif ,f_regression ,SelectFdr ,mutual_info_regression\n",
    "from sklearn.ensemble import BaggingClassifier\n",
    "from sklearn.ensemble import RandomForestClassifier\n",
    "from sklearn.ensemble import ExtraTreesClassifier\n",
    "from sklearn.ensemble import AdaBoostClassifier\n",
    "from sklearn.ensemble import GradientBoostingClassifier\n",
    "from sklearn.ensemble import VotingClassifier\n",
    "from sklearn.model_selection import train_test_split\n",
    "from sklearn.metrics import roc_curve, auc\n",
    "from sklearn import metrics\n",
    "from tensorflow.keras.models import Sequential\n",
    "from tensorflow.keras.layers import Dense, Activation,Dropout\n",
    "from tensorflow.keras.callbacks import ModelCheckpoint, EarlyStopping, ReduceLROnPlateau\n",
    "from tensorflow.keras.optimizers import SGD\n",
    "from tensorflow.keras.optimizers.legacy import Adam\n",
    "import keras\n",
    "# Conv1D + LSTM\n",
    "from keras.layers import Conv1D \n",
    "from keras.layers import LSTM\n",
    "from keras.layers import Dense\n",
    "from keras.layers import Flatten"
   ]
  },
  {
   "cell_type": "markdown",
   "id": "1a310ffc",
   "metadata": {
    "papermill": {
     "duration": 0.007054,
     "end_time": "2022-11-03T12:53:54.023915",
     "exception": false,
     "start_time": "2022-11-03T12:53:54.016861",
     "status": "completed"
    },
    "tags": []
   },
   "source": [
    "# **Reading Data**"
   ]
  },
  {
   "cell_type": "code",
   "execution_count": 4,
   "id": "e8aa63fc",
   "metadata": {
    "execution": {
     "iopub.execute_input": "2022-11-03T12:53:54.040025Z",
     "iopub.status.busy": "2022-11-03T12:53:54.039320Z",
     "iopub.status.idle": "2022-11-03T12:54:03.363673Z",
     "shell.execute_reply": "2022-11-03T12:54:03.361984Z"
    },
    "papermill": {
     "duration": 9.334933,
     "end_time": "2022-11-03T12:54:03.366192",
     "exception": false,
     "start_time": "2022-11-03T12:53:54.031259",
     "status": "completed"
    },
    "tags": []
   },
   "outputs": [
    {
     "name": "stderr",
     "output_type": "stream",
     "text": [
      "/var/folders/8z/5hrcm2_s3gbc_m2tqx33mw900000gp/T/ipykernel_74405/3046805388.py:1: DtypeWarning: Columns (48,56) have mixed types. Specify dtype option on import or set low_memory=False.\n",
      "  df_dk=pd.read_csv('/Users/Abbas/Desktop/college/research work/dr_sheikh_abdullah/Keylogger_Detection.csv')\n"
     ]
    },
    {
     "data": {
      "text/html": [
       "<div>\n",
       "<style scoped>\n",
       "    .dataframe tbody tr th:only-of-type {\n",
       "        vertical-align: middle;\n",
       "    }\n",
       "\n",
       "    .dataframe tbody tr th {\n",
       "        vertical-align: top;\n",
       "    }\n",
       "\n",
       "    .dataframe thead th {\n",
       "        text-align: right;\n",
       "    }\n",
       "</style>\n",
       "<table border=\"1\" class=\"dataframe\">\n",
       "  <thead>\n",
       "    <tr style=\"text-align: right;\">\n",
       "      <th></th>\n",
       "      <th>Unnamed: 0</th>\n",
       "      <th>Flow ID</th>\n",
       "      <th>Source IP</th>\n",
       "      <th>Source Port</th>\n",
       "      <th>Destination IP</th>\n",
       "      <th>Destination Port</th>\n",
       "      <th>Protocol</th>\n",
       "      <th>Timestamp</th>\n",
       "      <th>Flow Duration</th>\n",
       "      <th>Total Fwd Packets</th>\n",
       "      <th>...</th>\n",
       "      <th>min_seg_size_forward</th>\n",
       "      <th>Active Mean</th>\n",
       "      <th>Active Std</th>\n",
       "      <th>Active Max</th>\n",
       "      <th>Active Min</th>\n",
       "      <th>Idle Mean</th>\n",
       "      <th>Idle Std</th>\n",
       "      <th>Idle Max</th>\n",
       "      <th>Idle Min</th>\n",
       "      <th>Class</th>\n",
       "    </tr>\n",
       "  </thead>\n",
       "  <tbody>\n",
       "    <tr>\n",
       "      <th>0</th>\n",
       "      <td>0</td>\n",
       "      <td>10.42.0.211-52.6.25.230-34451-443-6</td>\n",
       "      <td>10.42.0.211</td>\n",
       "      <td>34451.0</td>\n",
       "      <td>52.6.25.230</td>\n",
       "      <td>443.0</td>\n",
       "      <td>6.0</td>\n",
       "      <td>04/08/2017 05:12:36</td>\n",
       "      <td>12140931.0</td>\n",
       "      <td>9.0</td>\n",
       "      <td>...</td>\n",
       "      <td>32.0</td>\n",
       "      <td>0.0</td>\n",
       "      <td>0.0</td>\n",
       "      <td>0.0</td>\n",
       "      <td>0.0</td>\n",
       "      <td>0.0</td>\n",
       "      <td>0.0</td>\n",
       "      <td>0.0</td>\n",
       "      <td>0.0</td>\n",
       "      <td>Benign</td>\n",
       "    </tr>\n",
       "    <tr>\n",
       "      <th>1</th>\n",
       "      <td>1</td>\n",
       "      <td>172.217.3.99-10.42.0.151-443-53892-6</td>\n",
       "      <td>10.42.0.151</td>\n",
       "      <td>53892.0</td>\n",
       "      <td>172.217.3.99</td>\n",
       "      <td>443.0</td>\n",
       "      <td>6.0</td>\n",
       "      <td>04/08/2017 07:55:51</td>\n",
       "      <td>418882.0</td>\n",
       "      <td>102.0</td>\n",
       "      <td>...</td>\n",
       "      <td>32.0</td>\n",
       "      <td>0.0</td>\n",
       "      <td>0.0</td>\n",
       "      <td>0.0</td>\n",
       "      <td>0.0</td>\n",
       "      <td>0.0</td>\n",
       "      <td>0.0</td>\n",
       "      <td>0.0</td>\n",
       "      <td>0.0</td>\n",
       "      <td>Benign</td>\n",
       "    </tr>\n",
       "    <tr>\n",
       "      <th>2</th>\n",
       "      <td>2</td>\n",
       "      <td>172.217.3.98-10.42.0.151-443-50750-6</td>\n",
       "      <td>172.217.3.98</td>\n",
       "      <td>443.0</td>\n",
       "      <td>10.42.0.151</td>\n",
       "      <td>50750.0</td>\n",
       "      <td>6.0</td>\n",
       "      <td>04/08/2017 08:48:19</td>\n",
       "      <td>45.0</td>\n",
       "      <td>2.0</td>\n",
       "      <td>...</td>\n",
       "      <td>32.0</td>\n",
       "      <td>0.0</td>\n",
       "      <td>0.0</td>\n",
       "      <td>0.0</td>\n",
       "      <td>0.0</td>\n",
       "      <td>0.0</td>\n",
       "      <td>0.0</td>\n",
       "      <td>0.0</td>\n",
       "      <td>0.0</td>\n",
       "      <td>Benign</td>\n",
       "    </tr>\n",
       "    <tr>\n",
       "      <th>3</th>\n",
       "      <td>3</td>\n",
       "      <td>10.42.0.211-10.42.0.1-23025-53-17</td>\n",
       "      <td>10.42.0.211</td>\n",
       "      <td>23025.0</td>\n",
       "      <td>10.42.0.1</td>\n",
       "      <td>53.0</td>\n",
       "      <td>17.0</td>\n",
       "      <td>04/08/2017 05:54:10</td>\n",
       "      <td>541699.0</td>\n",
       "      <td>1.0</td>\n",
       "      <td>...</td>\n",
       "      <td>32.0</td>\n",
       "      <td>0.0</td>\n",
       "      <td>0.0</td>\n",
       "      <td>0.0</td>\n",
       "      <td>0.0</td>\n",
       "      <td>0.0</td>\n",
       "      <td>0.0</td>\n",
       "      <td>0.0</td>\n",
       "      <td>0.0</td>\n",
       "      <td>Benign</td>\n",
       "    </tr>\n",
       "    <tr>\n",
       "      <th>4</th>\n",
       "      <td>4</td>\n",
       "      <td>10.42.0.211-123.129.244.226-52602-443-6</td>\n",
       "      <td>10.42.0.211</td>\n",
       "      <td>52602.0</td>\n",
       "      <td>123.129.244.226</td>\n",
       "      <td>443.0</td>\n",
       "      <td>6.0</td>\n",
       "      <td>04/08/2017 08:44:25</td>\n",
       "      <td>7310795.0</td>\n",
       "      <td>3.0</td>\n",
       "      <td>...</td>\n",
       "      <td>20.0</td>\n",
       "      <td>0.0</td>\n",
       "      <td>0.0</td>\n",
       "      <td>0.0</td>\n",
       "      <td>0.0</td>\n",
       "      <td>0.0</td>\n",
       "      <td>0.0</td>\n",
       "      <td>0.0</td>\n",
       "      <td>0.0</td>\n",
       "      <td>Benign</td>\n",
       "    </tr>\n",
       "  </tbody>\n",
       "</table>\n",
       "<p>5 rows × 86 columns</p>\n",
       "</div>"
      ],
      "text/plain": [
       "   Unnamed: 0                                  Flow ID     Source IP  \\\n",
       "0           0      10.42.0.211-52.6.25.230-34451-443-6   10.42.0.211   \n",
       "1           1     172.217.3.99-10.42.0.151-443-53892-6   10.42.0.151   \n",
       "2           2     172.217.3.98-10.42.0.151-443-50750-6  172.217.3.98   \n",
       "3           3        10.42.0.211-10.42.0.1-23025-53-17   10.42.0.211   \n",
       "4           4  10.42.0.211-123.129.244.226-52602-443-6   10.42.0.211   \n",
       "\n",
       "    Source Port   Destination IP   Destination Port   Protocol  \\\n",
       "0       34451.0      52.6.25.230              443.0        6.0   \n",
       "1       53892.0     172.217.3.99              443.0        6.0   \n",
       "2         443.0      10.42.0.151            50750.0        6.0   \n",
       "3       23025.0        10.42.0.1               53.0       17.0   \n",
       "4       52602.0  123.129.244.226              443.0        6.0   \n",
       "\n",
       "             Timestamp   Flow Duration   Total Fwd Packets  ...  \\\n",
       "0  04/08/2017 05:12:36      12140931.0                 9.0  ...   \n",
       "1  04/08/2017 07:55:51        418882.0               102.0  ...   \n",
       "2  04/08/2017 08:48:19            45.0                 2.0  ...   \n",
       "3  04/08/2017 05:54:10        541699.0                 1.0  ...   \n",
       "4  04/08/2017 08:44:25       7310795.0                 3.0  ...   \n",
       "\n",
       "    min_seg_size_forward  Active Mean   Active Std   Active Max   Active Min  \\\n",
       "0                   32.0          0.0          0.0          0.0          0.0   \n",
       "1                   32.0          0.0          0.0          0.0          0.0   \n",
       "2                   32.0          0.0          0.0          0.0          0.0   \n",
       "3                   32.0          0.0          0.0          0.0          0.0   \n",
       "4                   20.0          0.0          0.0          0.0          0.0   \n",
       "\n",
       "   Idle Mean   Idle Std   Idle Max   Idle Min   Class  \n",
       "0        0.0        0.0        0.0        0.0  Benign  \n",
       "1        0.0        0.0        0.0        0.0  Benign  \n",
       "2        0.0        0.0        0.0        0.0  Benign  \n",
       "3        0.0        0.0        0.0        0.0  Benign  \n",
       "4        0.0        0.0        0.0        0.0  Benign  \n",
       "\n",
       "[5 rows x 86 columns]"
      ]
     },
     "execution_count": 4,
     "metadata": {},
     "output_type": "execute_result"
    }
   ],
   "source": [
    "df_dk=pd.read_csv('/Users/Abbas/Desktop/college/research work/dr_sheikh_abdullah/Keylogger_Detection.csv')\n",
    "df_dk.head(5)"
   ]
  },
  {
   "cell_type": "markdown",
   "id": "21cb7bff",
   "metadata": {
    "papermill": {
     "duration": 0.007393,
     "end_time": "2022-11-03T12:54:03.381536",
     "exception": false,
     "start_time": "2022-11-03T12:54:03.374143",
     "status": "completed"
    },
    "tags": []
   },
   "source": [
    "# **Data Preparation**"
   ]
  },
  {
   "cell_type": "code",
   "execution_count": 5,
   "id": "f59fe1fd",
   "metadata": {
    "execution": {
     "iopub.execute_input": "2022-11-03T12:54:03.397884Z",
     "iopub.status.busy": "2022-11-03T12:54:03.397595Z",
     "iopub.status.idle": "2022-11-03T12:54:03.405248Z",
     "shell.execute_reply": "2022-11-03T12:54:03.404263Z"
    },
    "papermill": {
     "duration": 0.018385,
     "end_time": "2022-11-03T12:54:03.407368",
     "exception": false,
     "start_time": "2022-11-03T12:54:03.388983",
     "status": "completed"
    },
    "tags": []
   },
   "outputs": [
    {
     "data": {
      "text/plain": [
       "Unnamed: 0           int64\n",
       "Flow ID             object\n",
       " Source IP          object\n",
       " Source Port       float64\n",
       " Destination IP     object\n",
       "                    ...   \n",
       "Idle Mean          float64\n",
       " Idle Std          float64\n",
       " Idle Max          float64\n",
       " Idle Min          float64\n",
       "Class               object\n",
       "Length: 86, dtype: object"
      ]
     },
     "execution_count": 5,
     "metadata": {},
     "output_type": "execute_result"
    }
   ],
   "source": [
    "df_dk.dtypes"
   ]
  },
  {
   "cell_type": "code",
   "execution_count": 6,
   "id": "b4f2b13e",
   "metadata": {
    "execution": {
     "iopub.execute_input": "2022-11-03T12:54:03.425141Z",
     "iopub.status.busy": "2022-11-03T12:54:03.424868Z",
     "iopub.status.idle": "2022-11-03T12:54:03.662223Z",
     "shell.execute_reply": "2022-11-03T12:54:03.661239Z"
    },
    "papermill": {
     "duration": 0.248271,
     "end_time": "2022-11-03T12:54:03.664790",
     "exception": false,
     "start_time": "2022-11-03T12:54:03.416519",
     "status": "completed"
    },
    "tags": []
   },
   "outputs": [],
   "source": [
    "Class_df = df_dk[\"Class\"]\n",
    "df_num = df_dk.select_dtypes(include=[np.number])\n",
    "df_num = df_num.join(Class_df)"
   ]
  },
  {
   "cell_type": "code",
   "execution_count": 7,
   "id": "b35a0dc0",
   "metadata": {
    "execution": {
     "iopub.execute_input": "2022-11-03T12:54:03.682130Z",
     "iopub.status.busy": "2022-11-03T12:54:03.681826Z",
     "iopub.status.idle": "2022-11-03T12:54:03.788500Z",
     "shell.execute_reply": "2022-11-03T12:54:03.787536Z"
    },
    "papermill": {
     "duration": 0.118003,
     "end_time": "2022-11-03T12:54:03.790761",
     "exception": false,
     "start_time": "2022-11-03T12:54:03.672758",
     "status": "completed"
    },
    "tags": []
   },
   "outputs": [],
   "source": [
    "df_num.drop('Unnamed: 0', axis=1, inplace=True)"
   ]
  },
  {
   "cell_type": "code",
   "execution_count": 8,
   "id": "217e7c5b",
   "metadata": {
    "execution": {
     "iopub.execute_input": "2022-11-03T12:54:03.808758Z",
     "iopub.status.busy": "2022-11-03T12:54:03.808411Z",
     "iopub.status.idle": "2022-11-03T12:54:04.238378Z",
     "shell.execute_reply": "2022-11-03T12:54:04.237313Z"
    },
    "papermill": {
     "duration": 0.441377,
     "end_time": "2022-11-03T12:54:04.240643",
     "exception": false,
     "start_time": "2022-11-03T12:54:03.799266",
     "status": "completed"
    },
    "tags": []
   },
   "outputs": [
    {
     "name": "stdout",
     "output_type": "stream",
     "text": [
      "879\n"
     ]
    }
   ],
   "source": [
    "print(df_num.isna().sum().sum())\n",
    "df_num=df_num.dropna()"
   ]
  },
  {
   "cell_type": "code",
   "execution_count": 9,
   "id": "5be5d82b",
   "metadata": {
    "execution": {
     "iopub.execute_input": "2022-11-03T12:54:04.258450Z",
     "iopub.status.busy": "2022-11-03T12:54:04.258095Z",
     "iopub.status.idle": "2022-11-03T12:54:04.515427Z",
     "shell.execute_reply": "2022-11-03T12:54:04.514447Z"
    },
    "papermill": {
     "duration": 0.268796,
     "end_time": "2022-11-03T12:54:04.517640",
     "exception": false,
     "start_time": "2022-11-03T12:54:04.248844",
     "status": "completed"
    },
    "tags": []
   },
   "outputs": [
    {
     "data": {
      "text/html": [
       "<div>\n",
       "<style scoped>\n",
       "    .dataframe tbody tr th:only-of-type {\n",
       "        vertical-align: middle;\n",
       "    }\n",
       "\n",
       "    .dataframe tbody tr th {\n",
       "        vertical-align: top;\n",
       "    }\n",
       "\n",
       "    .dataframe thead th {\n",
       "        text-align: right;\n",
       "    }\n",
       "</style>\n",
       "<table border=\"1\" class=\"dataframe\">\n",
       "  <thead>\n",
       "    <tr style=\"text-align: right;\">\n",
       "      <th></th>\n",
       "      <th>Source Port</th>\n",
       "      <th>Destination Port</th>\n",
       "      <th>Protocol</th>\n",
       "      <th>Flow Duration</th>\n",
       "      <th>Total Fwd Packets</th>\n",
       "      <th>Total Backward Packets</th>\n",
       "      <th>Total Length of Fwd Packets</th>\n",
       "      <th>Total Length of Bwd Packets</th>\n",
       "      <th>Fwd Packet Length Max</th>\n",
       "      <th>Fwd Packet Length Min</th>\n",
       "      <th>...</th>\n",
       "      <th>min_seg_size_forward</th>\n",
       "      <th>Active Mean</th>\n",
       "      <th>Active Std</th>\n",
       "      <th>Active Max</th>\n",
       "      <th>Active Min</th>\n",
       "      <th>Idle Mean</th>\n",
       "      <th>Idle Std</th>\n",
       "      <th>Idle Max</th>\n",
       "      <th>Idle Min</th>\n",
       "      <th>label</th>\n",
       "    </tr>\n",
       "  </thead>\n",
       "  <tbody>\n",
       "    <tr>\n",
       "      <th>78885</th>\n",
       "      <td>57464.0</td>\n",
       "      <td>80.0</td>\n",
       "      <td>6.0</td>\n",
       "      <td>42837317.0</td>\n",
       "      <td>3.0</td>\n",
       "      <td>1.0</td>\n",
       "      <td>0.0</td>\n",
       "      <td>0.0</td>\n",
       "      <td>0.0</td>\n",
       "      <td>0.0</td>\n",
       "      <td>...</td>\n",
       "      <td>32.0</td>\n",
       "      <td>0.0</td>\n",
       "      <td>0.0</td>\n",
       "      <td>0.0</td>\n",
       "      <td>0.0</td>\n",
       "      <td>0.0</td>\n",
       "      <td>0.0</td>\n",
       "      <td>0.0</td>\n",
       "      <td>0.0</td>\n",
       "      <td>1</td>\n",
       "    </tr>\n",
       "    <tr>\n",
       "      <th>92806</th>\n",
       "      <td>55271.0</td>\n",
       "      <td>80.0</td>\n",
       "      <td>6.0</td>\n",
       "      <td>630946.0</td>\n",
       "      <td>3.0</td>\n",
       "      <td>3.0</td>\n",
       "      <td>1448.0</td>\n",
       "      <td>193.0</td>\n",
       "      <td>1448.0</td>\n",
       "      <td>0.0</td>\n",
       "      <td>...</td>\n",
       "      <td>20.0</td>\n",
       "      <td>0.0</td>\n",
       "      <td>0.0</td>\n",
       "      <td>0.0</td>\n",
       "      <td>0.0</td>\n",
       "      <td>0.0</td>\n",
       "      <td>0.0</td>\n",
       "      <td>0.0</td>\n",
       "      <td>0.0</td>\n",
       "      <td>1</td>\n",
       "    </tr>\n",
       "    <tr>\n",
       "      <th>430155</th>\n",
       "      <td>60961.0</td>\n",
       "      <td>53.0</td>\n",
       "      <td>17.0</td>\n",
       "      <td>24814.0</td>\n",
       "      <td>1.0</td>\n",
       "      <td>1.0</td>\n",
       "      <td>34.0</td>\n",
       "      <td>50.0</td>\n",
       "      <td>34.0</td>\n",
       "      <td>34.0</td>\n",
       "      <td>...</td>\n",
       "      <td>32.0</td>\n",
       "      <td>0.0</td>\n",
       "      <td>0.0</td>\n",
       "      <td>0.0</td>\n",
       "      <td>0.0</td>\n",
       "      <td>0.0</td>\n",
       "      <td>0.0</td>\n",
       "      <td>0.0</td>\n",
       "      <td>0.0</td>\n",
       "      <td>0</td>\n",
       "    </tr>\n",
       "    <tr>\n",
       "      <th>194455</th>\n",
       "      <td>52087.0</td>\n",
       "      <td>80.0</td>\n",
       "      <td>6.0</td>\n",
       "      <td>559741.0</td>\n",
       "      <td>3.0</td>\n",
       "      <td>3.0</td>\n",
       "      <td>646.0</td>\n",
       "      <td>317.0</td>\n",
       "      <td>646.0</td>\n",
       "      <td>0.0</td>\n",
       "      <td>...</td>\n",
       "      <td>20.0</td>\n",
       "      <td>0.0</td>\n",
       "      <td>0.0</td>\n",
       "      <td>0.0</td>\n",
       "      <td>0.0</td>\n",
       "      <td>0.0</td>\n",
       "      <td>0.0</td>\n",
       "      <td>0.0</td>\n",
       "      <td>0.0</td>\n",
       "      <td>1</td>\n",
       "    </tr>\n",
       "    <tr>\n",
       "      <th>224921</th>\n",
       "      <td>59277.0</td>\n",
       "      <td>443.0</td>\n",
       "      <td>6.0</td>\n",
       "      <td>52163068.0</td>\n",
       "      <td>25.0</td>\n",
       "      <td>21.0</td>\n",
       "      <td>1965.0</td>\n",
       "      <td>4558.0</td>\n",
       "      <td>754.0</td>\n",
       "      <td>0.0</td>\n",
       "      <td>...</td>\n",
       "      <td>32.0</td>\n",
       "      <td>638079.0</td>\n",
       "      <td>0.0</td>\n",
       "      <td>638079.0</td>\n",
       "      <td>638079.0</td>\n",
       "      <td>51103460.0</td>\n",
       "      <td>0.0</td>\n",
       "      <td>51103460.0</td>\n",
       "      <td>51103460.0</td>\n",
       "      <td>0</td>\n",
       "    </tr>\n",
       "  </tbody>\n",
       "</table>\n",
       "<p>5 rows × 79 columns</p>\n",
       "</div>"
      ],
      "text/plain": [
       "         Source Port   Destination Port   Protocol   Flow Duration  \\\n",
       "78885        57464.0               80.0        6.0      42837317.0   \n",
       "92806        55271.0               80.0        6.0        630946.0   \n",
       "430155       60961.0               53.0       17.0         24814.0   \n",
       "194455       52087.0               80.0        6.0        559741.0   \n",
       "224921       59277.0              443.0        6.0      52163068.0   \n",
       "\n",
       "         Total Fwd Packets   Total Backward Packets  \\\n",
       "78885                  3.0                      1.0   \n",
       "92806                  3.0                      3.0   \n",
       "430155                 1.0                      1.0   \n",
       "194455                 3.0                      3.0   \n",
       "224921                25.0                     21.0   \n",
       "\n",
       "        Total Length of Fwd Packets   Total Length of Bwd Packets  \\\n",
       "78885                           0.0                           0.0   \n",
       "92806                        1448.0                         193.0   \n",
       "430155                         34.0                          50.0   \n",
       "194455                        646.0                         317.0   \n",
       "224921                       1965.0                        4558.0   \n",
       "\n",
       "         Fwd Packet Length Max   Fwd Packet Length Min  ...  \\\n",
       "78885                      0.0                     0.0  ...   \n",
       "92806                   1448.0                     0.0  ...   \n",
       "430155                    34.0                    34.0  ...   \n",
       "194455                   646.0                     0.0  ...   \n",
       "224921                   754.0                     0.0  ...   \n",
       "\n",
       "         min_seg_size_forward  Active Mean   Active Std   Active Max  \\\n",
       "78885                    32.0          0.0          0.0          0.0   \n",
       "92806                    20.0          0.0          0.0          0.0   \n",
       "430155                   32.0          0.0          0.0          0.0   \n",
       "194455                   20.0          0.0          0.0          0.0   \n",
       "224921                   32.0     638079.0          0.0     638079.0   \n",
       "\n",
       "         Active Min   Idle Mean   Idle Std    Idle Max    Idle Min  label  \n",
       "78885           0.0         0.0        0.0         0.0         0.0      1  \n",
       "92806           0.0         0.0        0.0         0.0         0.0      1  \n",
       "430155          0.0         0.0        0.0         0.0         0.0      0  \n",
       "194455          0.0         0.0        0.0         0.0         0.0      1  \n",
       "224921     638079.0  51103460.0        0.0  51103460.0  51103460.0      0  \n",
       "\n",
       "[5 rows x 79 columns]"
      ]
     },
     "execution_count": 9,
     "metadata": {},
     "output_type": "execute_result"
    }
   ],
   "source": [
    "df_num[\"label\"]=df_num[\"Class\"]\n",
    "df_num.loc[df_num.label == \"Benign\", 'label'] = 0\n",
    "df_num.loc[df_num.label == \"Keylogger\", 'label'] = 1\n",
    "df_num.drop('Class', axis=1, inplace=True)\n",
    "df_num.sample(5)"
   ]
  },
  {
   "cell_type": "markdown",
   "id": "389703e3",
   "metadata": {
    "papermill": {
     "duration": 0.008233,
     "end_time": "2022-11-03T12:54:04.534200",
     "exception": false,
     "start_time": "2022-11-03T12:54:04.525967",
     "status": "completed"
    },
    "tags": []
   },
   "source": [
    "# ** Distribution Classes**"
   ]
  },
  {
   "cell_type": "code",
   "execution_count": 10,
   "id": "d3b62a8e",
   "metadata": {
    "execution": {
     "iopub.execute_input": "2022-11-03T12:54:04.551105Z",
     "iopub.status.busy": "2022-11-03T12:54:04.550815Z",
     "iopub.status.idle": "2022-11-03T12:54:04.586167Z",
     "shell.execute_reply": "2022-11-03T12:54:04.585325Z"
    },
    "papermill": {
     "duration": 0.046063,
     "end_time": "2022-11-03T12:54:04.588163",
     "exception": false,
     "start_time": "2022-11-03T12:54:04.542100",
     "status": "completed"
    },
    "tags": []
   },
   "outputs": [
    {
     "data": {
      "text/plain": [
       "label\n",
       "0    308813\n",
       "1    214782\n",
       "dtype: int64"
      ]
     },
     "execution_count": 10,
     "metadata": {},
     "output_type": "execute_result"
    }
   ],
   "source": [
    "df_num.groupby('label').size()"
   ]
  },
  {
   "cell_type": "markdown",
   "id": "84b2ee38",
   "metadata": {
    "papermill": {
     "duration": 0.007799,
     "end_time": "2022-11-03T12:54:04.604213",
     "exception": false,
     "start_time": "2022-11-03T12:54:04.596414",
     "status": "completed"
    },
    "tags": []
   },
   "source": [
    "# **Remove Useless Features**"
   ]
  },
  {
   "cell_type": "code",
   "execution_count": 11,
   "id": "c7d54d4e",
   "metadata": {
    "execution": {
     "iopub.execute_input": "2022-11-03T12:54:04.621989Z",
     "iopub.status.busy": "2022-11-03T12:54:04.621225Z",
     "iopub.status.idle": "2022-11-03T12:54:06.009595Z",
     "shell.execute_reply": "2022-11-03T12:54:06.008610Z"
    },
    "papermill": {
     "duration": 1.399986,
     "end_time": "2022-11-03T12:54:06.012162",
     "exception": false,
     "start_time": "2022-11-03T12:54:04.612176",
     "status": "completed"
    },
    "tags": []
   },
   "outputs": [],
   "source": [
    "for col in (df_num.iloc[:,:-1].columns):\n",
    "    if(df_num[col].min()==df_num[col].max()):\n",
    "            df_num.drop(col, axis=1, inplace=True)"
   ]
  },
  {
   "cell_type": "markdown",
   "id": "fec4563a",
   "metadata": {
    "papermill": {
     "duration": 0.007879,
     "end_time": "2022-11-03T12:54:06.029164",
     "exception": false,
     "start_time": "2022-11-03T12:54:06.021285",
     "status": "completed"
    },
    "tags": []
   },
   "source": [
    "# **Feature Scaling**"
   ]
  },
  {
   "cell_type": "code",
   "execution_count": 12,
   "id": "85948628",
   "metadata": {
    "execution": {
     "iopub.execute_input": "2022-11-03T12:54:06.047047Z",
     "iopub.status.busy": "2022-11-03T12:54:06.046198Z",
     "iopub.status.idle": "2022-11-03T12:54:06.582373Z",
     "shell.execute_reply": "2022-11-03T12:54:06.581341Z"
    },
    "papermill": {
     "duration": 0.547214,
     "end_time": "2022-11-03T12:54:06.584481",
     "exception": false,
     "start_time": "2022-11-03T12:54:06.037267",
     "status": "completed"
    },
    "tags": []
   },
   "outputs": [
    {
     "data": {
      "text/html": [
       "<div>\n",
       "<style scoped>\n",
       "    .dataframe tbody tr th:only-of-type {\n",
       "        vertical-align: middle;\n",
       "    }\n",
       "\n",
       "    .dataframe tbody tr th {\n",
       "        vertical-align: top;\n",
       "    }\n",
       "\n",
       "    .dataframe thead th {\n",
       "        text-align: right;\n",
       "    }\n",
       "</style>\n",
       "<table border=\"1\" class=\"dataframe\">\n",
       "  <thead>\n",
       "    <tr style=\"text-align: right;\">\n",
       "      <th></th>\n",
       "      <th>Source Port</th>\n",
       "      <th>Destination Port</th>\n",
       "      <th>Protocol</th>\n",
       "      <th>Flow Duration</th>\n",
       "      <th>Total Fwd Packets</th>\n",
       "      <th>Total Backward Packets</th>\n",
       "      <th>Total Length of Fwd Packets</th>\n",
       "      <th>Total Length of Bwd Packets</th>\n",
       "      <th>Fwd Packet Length Max</th>\n",
       "      <th>Fwd Packet Length Min</th>\n",
       "      <th>...</th>\n",
       "      <th>min_seg_size_forward</th>\n",
       "      <th>Active Mean</th>\n",
       "      <th>Active Std</th>\n",
       "      <th>Active Max</th>\n",
       "      <th>Active Min</th>\n",
       "      <th>Idle Mean</th>\n",
       "      <th>Idle Std</th>\n",
       "      <th>Idle Max</th>\n",
       "      <th>Idle Min</th>\n",
       "      <th>label</th>\n",
       "    </tr>\n",
       "  </thead>\n",
       "  <tbody>\n",
       "    <tr>\n",
       "      <th>0</th>\n",
       "      <td>-0.210447</td>\n",
       "      <td>-0.368579</td>\n",
       "      <td>-0.468868</td>\n",
       "      <td>0.042412</td>\n",
       "      <td>-0.004811</td>\n",
       "      <td>-0.036722</td>\n",
       "      <td>-0.013233</td>\n",
       "      <td>-0.038629</td>\n",
       "      <td>-0.021233</td>\n",
       "      <td>-0.212203</td>\n",
       "      <td>...</td>\n",
       "      <td>0.004137</td>\n",
       "      <td>-0.183877</td>\n",
       "      <td>-0.063066</td>\n",
       "      <td>-0.175005</td>\n",
       "      <td>-0.173854</td>\n",
       "      <td>-0.290551</td>\n",
       "      <td>-0.121636</td>\n",
       "      <td>-0.296481</td>\n",
       "      <td>-0.277622</td>\n",
       "      <td>0</td>\n",
       "    </tr>\n",
       "    <tr>\n",
       "      <th>1</th>\n",
       "      <td>0.828487</td>\n",
       "      <td>-0.368579</td>\n",
       "      <td>-0.468868</td>\n",
       "      <td>-0.465677</td>\n",
       "      <td>0.945480</td>\n",
       "      <td>0.575336</td>\n",
       "      <td>-0.004001</td>\n",
       "      <td>0.556642</td>\n",
       "      <td>0.815442</td>\n",
       "      <td>-0.212203</td>\n",
       "      <td>...</td>\n",
       "      <td>0.004137</td>\n",
       "      <td>-0.183877</td>\n",
       "      <td>-0.063066</td>\n",
       "      <td>-0.175005</td>\n",
       "      <td>-0.173854</td>\n",
       "      <td>-0.290551</td>\n",
       "      <td>-0.121636</td>\n",
       "      <td>-0.296481</td>\n",
       "      <td>-0.277622</td>\n",
       "      <td>0</td>\n",
       "    </tr>\n",
       "    <tr>\n",
       "      <th>2</th>\n",
       "      <td>-2.027848</td>\n",
       "      <td>2.839488</td>\n",
       "      <td>-0.468868</td>\n",
       "      <td>-0.483831</td>\n",
       "      <td>-0.076338</td>\n",
       "      <td>-0.055364</td>\n",
       "      <td>-0.018437</td>\n",
       "      <td>-0.046536</td>\n",
       "      <td>-0.435509</td>\n",
       "      <td>-0.212203</td>\n",
       "      <td>...</td>\n",
       "      <td>0.004137</td>\n",
       "      <td>-0.183877</td>\n",
       "      <td>-0.063066</td>\n",
       "      <td>-0.175005</td>\n",
       "      <td>-0.173854</td>\n",
       "      <td>-0.290551</td>\n",
       "      <td>-0.121636</td>\n",
       "      <td>-0.296481</td>\n",
       "      <td>-0.277622</td>\n",
       "      <td>0</td>\n",
       "    </tr>\n",
       "    <tr>\n",
       "      <th>3</th>\n",
       "      <td>-0.821057</td>\n",
       "      <td>-0.393449</td>\n",
       "      <td>2.036972</td>\n",
       "      <td>-0.460353</td>\n",
       "      <td>-0.086556</td>\n",
       "      <td>-0.052257</td>\n",
       "      <td>-0.018736</td>\n",
       "      <td>-0.046050</td>\n",
       "      <td>-0.478832</td>\n",
       "      <td>0.522899</td>\n",
       "      <td>...</td>\n",
       "      <td>0.004137</td>\n",
       "      <td>-0.183877</td>\n",
       "      <td>-0.063066</td>\n",
       "      <td>-0.175005</td>\n",
       "      <td>-0.173854</td>\n",
       "      <td>-0.290551</td>\n",
       "      <td>-0.121636</td>\n",
       "      <td>-0.296481</td>\n",
       "      <td>-0.277622</td>\n",
       "      <td>0</td>\n",
       "    </tr>\n",
       "    <tr>\n",
       "      <th>4</th>\n",
       "      <td>0.759549</td>\n",
       "      <td>-0.368579</td>\n",
       "      <td>-0.468868</td>\n",
       "      <td>-0.166949</td>\n",
       "      <td>-0.066120</td>\n",
       "      <td>-0.055364</td>\n",
       "      <td>-0.019463</td>\n",
       "      <td>-0.046536</td>\n",
       "      <td>-0.584432</td>\n",
       "      <td>-0.212203</td>\n",
       "      <td>...</td>\n",
       "      <td>0.004135</td>\n",
       "      <td>-0.183877</td>\n",
       "      <td>-0.063066</td>\n",
       "      <td>-0.175005</td>\n",
       "      <td>-0.173854</td>\n",
       "      <td>-0.290551</td>\n",
       "      <td>-0.121636</td>\n",
       "      <td>-0.296481</td>\n",
       "      <td>-0.277622</td>\n",
       "      <td>0</td>\n",
       "    </tr>\n",
       "  </tbody>\n",
       "</table>\n",
       "<p>5 rows × 68 columns</p>\n",
       "</div>"
      ],
      "text/plain": [
       "    Source Port   Destination Port   Protocol   Flow Duration  \\\n",
       "0     -0.210447          -0.368579  -0.468868        0.042412   \n",
       "1      0.828487          -0.368579  -0.468868       -0.465677   \n",
       "2     -2.027848           2.839488  -0.468868       -0.483831   \n",
       "3     -0.821057          -0.393449   2.036972       -0.460353   \n",
       "4      0.759549          -0.368579  -0.468868       -0.166949   \n",
       "\n",
       "    Total Fwd Packets   Total Backward Packets  Total Length of Fwd Packets  \\\n",
       "0           -0.004811                -0.036722                    -0.013233   \n",
       "1            0.945480                 0.575336                    -0.004001   \n",
       "2           -0.076338                -0.055364                    -0.018437   \n",
       "3           -0.086556                -0.052257                    -0.018736   \n",
       "4           -0.066120                -0.055364                    -0.019463   \n",
       "\n",
       "    Total Length of Bwd Packets   Fwd Packet Length Max  \\\n",
       "0                     -0.038629               -0.021233   \n",
       "1                      0.556642                0.815442   \n",
       "2                     -0.046536               -0.435509   \n",
       "3                     -0.046050               -0.478832   \n",
       "4                     -0.046536               -0.584432   \n",
       "\n",
       "    Fwd Packet Length Min  ...   min_seg_size_forward  Active Mean  \\\n",
       "0               -0.212203  ...               0.004137    -0.183877   \n",
       "1               -0.212203  ...               0.004137    -0.183877   \n",
       "2               -0.212203  ...               0.004137    -0.183877   \n",
       "3                0.522899  ...               0.004137    -0.183877   \n",
       "4               -0.212203  ...               0.004135    -0.183877   \n",
       "\n",
       "    Active Std   Active Max   Active Min  Idle Mean   Idle Std   Idle Max  \\\n",
       "0    -0.063066    -0.175005    -0.173854  -0.290551  -0.121636  -0.296481   \n",
       "1    -0.063066    -0.175005    -0.173854  -0.290551  -0.121636  -0.296481   \n",
       "2    -0.063066    -0.175005    -0.173854  -0.290551  -0.121636  -0.296481   \n",
       "3    -0.063066    -0.175005    -0.173854  -0.290551  -0.121636  -0.296481   \n",
       "4    -0.063066    -0.175005    -0.173854  -0.290551  -0.121636  -0.296481   \n",
       "\n",
       "    Idle Min  label  \n",
       "0  -0.277622      0  \n",
       "1  -0.277622      0  \n",
       "2  -0.277622      0  \n",
       "3  -0.277622      0  \n",
       "4  -0.277622      0  \n",
       "\n",
       "[5 rows x 68 columns]"
      ]
     },
     "execution_count": 12,
     "metadata": {},
     "output_type": "execute_result"
    }
   ],
   "source": [
    "# Normalization OR Standardization\n",
    "def standardize(df,col):\n",
    "    df[col]= (df[col]-df[col].mean())/(df[col].std()) # Standardization\n",
    "    #df[col]= (df[col]-df[col].min())/(df[col].max()-df[col].min()) #Normalization\n",
    "\n",
    "for i in (df_num.iloc[:,:-1].columns):\n",
    "    standardize (df_num,i)\n",
    "\n",
    "df_num.head()"
   ]
  },
  {
   "cell_type": "code",
   "execution_count": 13,
   "id": "44906957",
   "metadata": {
    "execution": {
     "iopub.execute_input": "2022-11-03T12:54:06.604624Z",
     "iopub.status.busy": "2022-11-03T12:54:06.602972Z",
     "iopub.status.idle": "2022-11-03T12:54:06.608332Z",
     "shell.execute_reply": "2022-11-03T12:54:06.607452Z"
    },
    "papermill": {
     "duration": 0.017083,
     "end_time": "2022-11-03T12:54:06.610363",
     "exception": false,
     "start_time": "2022-11-03T12:54:06.593280",
     "status": "completed"
    },
    "tags": []
   },
   "outputs": [],
   "source": [
    "target=['label']\n",
    "features = [c for c in df_num.columns if c!=\"label\"]"
   ]
  },
  {
   "cell_type": "code",
   "execution_count": 14,
   "id": "6c9631cc",
   "metadata": {
    "execution": {
     "iopub.execute_input": "2022-11-03T12:54:06.628142Z",
     "iopub.status.busy": "2022-11-03T12:54:06.627875Z",
     "iopub.status.idle": "2022-11-03T12:54:07.634359Z",
     "shell.execute_reply": "2022-11-03T12:54:07.633374Z"
    },
    "papermill": {
     "duration": 1.018292,
     "end_time": "2022-11-03T12:54:07.637005",
     "exception": false,
     "start_time": "2022-11-03T12:54:06.618713",
     "status": "completed"
    },
    "tags": []
   },
   "outputs": [
    {
     "name": "stderr",
     "output_type": "stream",
     "text": [
      "/Users/Abbas/anaconda3/lib/python3.11/site-packages/sklearn/utils/validation.py:1300: DataConversionWarning: A column-vector y was passed when a 1d array was expected. Please change the shape of y to (n_samples, ), for example using ravel().\n",
      "  y = column_or_1d(y, warn=True)\n"
     ]
    }
   ],
   "source": [
    "X_new = SelectKBest(f_classif, k=48).fit_transform(df_num[features], df_num[target])\n",
    "X_new=df_num[features]"
   ]
  },
  {
   "cell_type": "code",
   "execution_count": 15,
   "id": "f23ae2f7",
   "metadata": {
    "execution": {
     "iopub.execute_input": "2022-11-03T12:54:07.655489Z",
     "iopub.status.busy": "2022-11-03T12:54:07.655180Z",
     "iopub.status.idle": "2022-11-03T12:56:29.674320Z",
     "shell.execute_reply": "2022-11-03T12:56:29.673349Z"
    },
    "papermill": {
     "duration": 142.041809,
     "end_time": "2022-11-03T12:56:29.687670",
     "exception": false,
     "start_time": "2022-11-03T12:54:07.645861",
     "status": "completed"
    },
    "tags": []
   },
   "outputs": [
    {
     "name": "stderr",
     "output_type": "stream",
     "text": [
      "/Users/Abbas/anaconda3/lib/python3.11/site-packages/sklearn/utils/validation.py:1300: DataConversionWarning: A column-vector y was passed when a 1d array was expected. Please change the shape of y to (n_samples, ), for example using ravel().\n",
      "  y = column_or_1d(y, warn=True)\n",
      "/Users/Abbas/anaconda3/lib/python3.11/site-packages/sklearn/svm/_base.py:1237: ConvergenceWarning: Liblinear failed to converge, increase the number of iterations.\n",
      "  warnings.warn(\n",
      "/Users/Abbas/anaconda3/lib/python3.11/site-packages/sklearn/base.py:486: UserWarning: X has feature names, but SelectFromModel was fitted without feature names\n",
      "  warnings.warn(\n"
     ]
    },
    {
     "data": {
      "text/plain": [
       "(523595, 53)"
      ]
     },
     "execution_count": 15,
     "metadata": {},
     "output_type": "execute_result"
    }
   ],
   "source": [
    "from sklearn.feature_selection import SelectFromModel\n",
    "from sklearn.svm import LinearSVC\n",
    "lsvc = LinearSVC(C=0.01, penalty=\"l1\", dual=False).fit(df_num[features], df_num[target].astype('int'))\n",
    "modelC = SelectFromModel(lsvc, prefit=True)\n",
    "X_new = modelC.transform(df_num[features])\n",
    "X_new.shape"
   ]
  },
  {
   "cell_type": "markdown",
   "id": "111064a5",
   "metadata": {
    "papermill": {
     "duration": 0.008769,
     "end_time": "2022-11-03T12:56:29.705529",
     "exception": false,
     "start_time": "2022-11-03T12:56:29.696760",
     "status": "completed"
    },
    "tags": []
   },
   "source": [
    "# **Split DataSet**"
   ]
  },
  {
   "cell_type": "code",
   "execution_count": 16,
   "id": "641f69de",
   "metadata": {
    "execution": {
     "iopub.execute_input": "2022-11-03T12:56:29.723956Z",
     "iopub.status.busy": "2022-11-03T12:56:29.723653Z",
     "iopub.status.idle": "2022-11-03T12:56:29.905791Z",
     "shell.execute_reply": "2022-11-03T12:56:29.904679Z"
    },
    "papermill": {
     "duration": 0.194337,
     "end_time": "2022-11-03T12:56:29.908512",
     "exception": false,
     "start_time": "2022-11-03T12:56:29.714175",
     "status": "completed"
    },
    "tags": []
   },
   "outputs": [
    {
     "data": {
      "text/plain": [
       "((523595, 53), (523595, 1))"
      ]
     },
     "execution_count": 16,
     "metadata": {},
     "output_type": "execute_result"
    }
   ],
   "source": [
    "X = df_num[features].values # Features\n",
    "X = df_num[features[0:18]].values\n",
    "X=X_new\n",
    "y = df_num[target].values # Target\n",
    "\n",
    "X=X.astype(np.float32)\n",
    "y=y.astype(np.float32)\n",
    "\n",
    "X.shape,y.shape,"
   ]
  },
  {
   "cell_type": "code",
   "execution_count": 17,
   "id": "96d64f85",
   "metadata": {
    "execution": {
     "iopub.execute_input": "2022-11-03T12:56:29.927524Z",
     "iopub.status.busy": "2022-11-03T12:56:29.927212Z",
     "iopub.status.idle": "2022-11-03T12:56:30.214151Z",
     "shell.execute_reply": "2022-11-03T12:56:30.213116Z"
    },
    "papermill": {
     "duration": 0.299105,
     "end_time": "2022-11-03T12:56:30.216567",
     "exception": false,
     "start_time": "2022-11-03T12:56:29.917462",
     "status": "completed"
    },
    "tags": []
   },
   "outputs": [],
   "source": [
    "from sklearn.model_selection import train_test_split\n",
    "X_train, X_test, y_train, y_test = train_test_split(X, y, test_size=0.2, random_state=13)"
   ]
  },
  {
   "cell_type": "code",
   "execution_count": 18,
   "id": "518a893d",
   "metadata": {
    "execution": {
     "iopub.execute_input": "2022-11-03T12:56:30.235642Z",
     "iopub.status.busy": "2022-11-03T12:56:30.235320Z",
     "iopub.status.idle": "2022-11-03T12:56:30.241330Z",
     "shell.execute_reply": "2022-11-03T12:56:30.240475Z"
    },
    "papermill": {
     "duration": 0.017643,
     "end_time": "2022-11-03T12:56:30.243174",
     "exception": false,
     "start_time": "2022-11-03T12:56:30.225531",
     "status": "completed"
    },
    "tags": []
   },
   "outputs": [
    {
     "data": {
      "text/plain": [
       "((418876, 53), (104719, 53), (418876, 1), (104719, 1))"
      ]
     },
     "execution_count": 18,
     "metadata": {},
     "output_type": "execute_result"
    }
   ],
   "source": [
    "X_train.shape,X_test.shape,y_train.shape,y_test.shape"
   ]
  },
  {
   "cell_type": "code",
   "execution_count": 22,
   "id": "7e18434f",
   "metadata": {
    "execution": {
     "iopub.execute_input": "2022-11-03T12:56:30.262012Z",
     "iopub.status.busy": "2022-11-03T12:56:30.261252Z",
     "iopub.status.idle": "2022-11-03T12:56:30.267601Z",
     "shell.execute_reply": "2022-11-03T12:56:30.266770Z"
    },
    "papermill": {
     "duration": 0.018021,
     "end_time": "2022-11-03T12:56:30.269740",
     "exception": false,
     "start_time": "2022-11-03T12:56:30.251719",
     "status": "completed"
    },
    "tags": []
   },
   "outputs": [],
   "source": [
    "learning_rate=0.001\n",
    "batch_size=512\n",
    "epochs = 25\n",
    "\n",
    "model_save = ModelCheckpoint('T_Keylogging.h5', \n",
    "                             save_best_only = True, \n",
    "                             save_weights_only = True,\n",
    "                             monitor = 'val_loss', \n",
    "                             mode = 'min', verbose = 1)\n",
    "early_stop = EarlyStopping(monitor = 'val_loss', min_delta = 0.001, \n",
    "                           patience = 50, mode = 'min', verbose = 1,\n",
    "                           restore_best_weights = True)\n",
    "reduce_lr = ReduceLROnPlateau(monitor = 'val_loss', factor = 0.75, \n",
    "                              patience = 10, min_delta = 0.001, \n",
    "                              mode = 'min', verbose = 1)"
   ]
  },
  {
   "cell_type": "code",
   "execution_count": 23,
   "id": "26f8218d",
   "metadata": {
    "execution": {
     "iopub.execute_input": "2022-11-03T12:56:30.288674Z",
     "iopub.status.busy": "2022-11-03T12:56:30.287881Z",
     "iopub.status.idle": "2022-11-03T12:56:33.517599Z",
     "shell.execute_reply": "2022-11-03T12:56:33.516617Z"
    },
    "papermill": {
     "duration": 3.242014,
     "end_time": "2022-11-03T12:56:33.520399",
     "exception": false,
     "start_time": "2022-11-03T12:56:30.278385",
     "status": "completed"
    },
    "tags": []
   },
   "outputs": [],
   "source": [
    "def Create_Model_ANN(num_columns, num_labels,learning_rate):\n",
    "    model = Sequential()\n",
    "    model.add(Dense(64,input_dim=num_columns, activation='relu'))\n",
    "    model.add(Dense(128, activation='relu'))\n",
    "    model.add(Dense(256, activation='relu'))\n",
    "    model.add(Dense(512, activation='relu'))\n",
    "    model.add(Dense(256, activation='relu'))\n",
    "    model.add(Dense(128, activation='relu'))\n",
    "    model.add(Dense(64, activation='relu'))\n",
    "    model.add(Dense(num_labels,activation='sigmoid'))\n",
    "    \n",
    "    adam = Adam(lr=learning_rate, beta_1=0.9, beta_2=0.999, epsilon=1e-08, decay=0.0)\n",
    "    #adam = Adam(lr=learning_rate)\n",
    "    \n",
    "    model.compile(loss='binary_crossentropy', optimizer=adam,metrics=[keras.metrics.AUC(name='auc')])\n",
    "    \n",
    "    return model\n",
    "\n",
    "model = Create_Model_ANN(X_test.shape[1], 1,learning_rate)"
   ]
  },
  {
   "cell_type": "code",
   "execution_count": 25,
   "id": "21c65453",
   "metadata": {
    "execution": {
     "iopub.execute_input": "2022-11-03T12:56:33.541459Z",
     "iopub.status.busy": "2022-11-03T12:56:33.540638Z",
     "iopub.status.idle": "2022-11-03T12:56:33.914560Z",
     "shell.execute_reply": "2022-11-03T12:56:33.913132Z"
    },
    "papermill": {
     "duration": 0.385642,
     "end_time": "2022-11-03T12:56:33.916103",
     "exception": true,
     "start_time": "2022-11-03T12:56:33.530461",
     "status": "failed"
    },
    "tags": []
   },
   "outputs": [
    {
     "ename": "OSError",
     "evalue": "Unable to open file (file signature not found)",
     "output_type": "error",
     "traceback": [
      "\u001b[0;31m---------------------------------------------------------------------------\u001b[0m",
      "\u001b[0;31mOSError\u001b[0m                                   Traceback (most recent call last)",
      "Cell \u001b[0;32mIn[25], line 2\u001b[0m\n\u001b[1;32m      1\u001b[0m \u001b[38;5;28;01mfrom\u001b[39;00m \u001b[38;5;21;01mtensorflow\u001b[39;00m \u001b[38;5;28;01mimport\u001b[39;00m keras\n\u001b[0;32m----> 2\u001b[0m model\u001b[38;5;241m.\u001b[39mload_weights(\u001b[38;5;124m'\u001b[39m\u001b[38;5;124m/Users/Abbas/Desktop/college/research work/dr_sheikh_abdullah/T_Keylogging.h5\u001b[39m\u001b[38;5;124m'\u001b[39m)\n",
      "File \u001b[0;32m~/anaconda3/lib/python3.11/site-packages/keras/src/utils/traceback_utils.py:70\u001b[0m, in \u001b[0;36mfilter_traceback.<locals>.error_handler\u001b[0;34m(*args, **kwargs)\u001b[0m\n\u001b[1;32m     67\u001b[0m     filtered_tb \u001b[38;5;241m=\u001b[39m _process_traceback_frames(e\u001b[38;5;241m.\u001b[39m__traceback__)\n\u001b[1;32m     68\u001b[0m     \u001b[38;5;66;03m# To get the full stack trace, call:\u001b[39;00m\n\u001b[1;32m     69\u001b[0m     \u001b[38;5;66;03m# `tf.debugging.disable_traceback_filtering()`\u001b[39;00m\n\u001b[0;32m---> 70\u001b[0m     \u001b[38;5;28;01mraise\u001b[39;00m e\u001b[38;5;241m.\u001b[39mwith_traceback(filtered_tb) \u001b[38;5;28;01mfrom\u001b[39;00m \u001b[38;5;28;01mNone\u001b[39;00m\n\u001b[1;32m     71\u001b[0m \u001b[38;5;28;01mfinally\u001b[39;00m:\n\u001b[1;32m     72\u001b[0m     \u001b[38;5;28;01mdel\u001b[39;00m filtered_tb\n",
      "File \u001b[0;32m~/anaconda3/lib/python3.11/site-packages/h5py/_hl/files.py:567\u001b[0m, in \u001b[0;36mFile.__init__\u001b[0;34m(self, name, mode, driver, libver, userblock_size, swmr, rdcc_nslots, rdcc_nbytes, rdcc_w0, track_order, fs_strategy, fs_persist, fs_threshold, fs_page_size, page_buf_size, min_meta_keep, min_raw_keep, locking, alignment_threshold, alignment_interval, meta_block_size, **kwds)\u001b[0m\n\u001b[1;32m    558\u001b[0m     fapl \u001b[38;5;241m=\u001b[39m make_fapl(driver, libver, rdcc_nslots, rdcc_nbytes, rdcc_w0,\n\u001b[1;32m    559\u001b[0m                      locking, page_buf_size, min_meta_keep, min_raw_keep,\n\u001b[1;32m    560\u001b[0m                      alignment_threshold\u001b[38;5;241m=\u001b[39malignment_threshold,\n\u001b[1;32m    561\u001b[0m                      alignment_interval\u001b[38;5;241m=\u001b[39malignment_interval,\n\u001b[1;32m    562\u001b[0m                      meta_block_size\u001b[38;5;241m=\u001b[39mmeta_block_size,\n\u001b[1;32m    563\u001b[0m                      \u001b[38;5;241m*\u001b[39m\u001b[38;5;241m*\u001b[39mkwds)\n\u001b[1;32m    564\u001b[0m     fcpl \u001b[38;5;241m=\u001b[39m make_fcpl(track_order\u001b[38;5;241m=\u001b[39mtrack_order, fs_strategy\u001b[38;5;241m=\u001b[39mfs_strategy,\n\u001b[1;32m    565\u001b[0m                      fs_persist\u001b[38;5;241m=\u001b[39mfs_persist, fs_threshold\u001b[38;5;241m=\u001b[39mfs_threshold,\n\u001b[1;32m    566\u001b[0m                      fs_page_size\u001b[38;5;241m=\u001b[39mfs_page_size)\n\u001b[0;32m--> 567\u001b[0m     fid \u001b[38;5;241m=\u001b[39m make_fid(name, mode, userblock_size, fapl, fcpl, swmr\u001b[38;5;241m=\u001b[39mswmr)\n\u001b[1;32m    569\u001b[0m \u001b[38;5;28;01mif\u001b[39;00m \u001b[38;5;28misinstance\u001b[39m(libver, \u001b[38;5;28mtuple\u001b[39m):\n\u001b[1;32m    570\u001b[0m     \u001b[38;5;28mself\u001b[39m\u001b[38;5;241m.\u001b[39m_libver \u001b[38;5;241m=\u001b[39m libver\n",
      "File \u001b[0;32m~/anaconda3/lib/python3.11/site-packages/h5py/_hl/files.py:231\u001b[0m, in \u001b[0;36mmake_fid\u001b[0;34m(name, mode, userblock_size, fapl, fcpl, swmr)\u001b[0m\n\u001b[1;32m    229\u001b[0m     \u001b[38;5;28;01mif\u001b[39;00m swmr \u001b[38;5;129;01mand\u001b[39;00m swmr_support:\n\u001b[1;32m    230\u001b[0m         flags \u001b[38;5;241m|\u001b[39m\u001b[38;5;241m=\u001b[39m h5f\u001b[38;5;241m.\u001b[39mACC_SWMR_READ\n\u001b[0;32m--> 231\u001b[0m     fid \u001b[38;5;241m=\u001b[39m h5f\u001b[38;5;241m.\u001b[39mopen(name, flags, fapl\u001b[38;5;241m=\u001b[39mfapl)\n\u001b[1;32m    232\u001b[0m \u001b[38;5;28;01melif\u001b[39;00m mode \u001b[38;5;241m==\u001b[39m \u001b[38;5;124m'\u001b[39m\u001b[38;5;124mr+\u001b[39m\u001b[38;5;124m'\u001b[39m:\n\u001b[1;32m    233\u001b[0m     fid \u001b[38;5;241m=\u001b[39m h5f\u001b[38;5;241m.\u001b[39mopen(name, h5f\u001b[38;5;241m.\u001b[39mACC_RDWR, fapl\u001b[38;5;241m=\u001b[39mfapl)\n",
      "File \u001b[0;32mh5py/_objects.pyx:54\u001b[0m, in \u001b[0;36mh5py._objects.with_phil.wrapper\u001b[0;34m()\u001b[0m\n",
      "File \u001b[0;32mh5py/_objects.pyx:55\u001b[0m, in \u001b[0;36mh5py._objects.with_phil.wrapper\u001b[0;34m()\u001b[0m\n",
      "File \u001b[0;32mh5py/h5f.pyx:106\u001b[0m, in \u001b[0;36mh5py.h5f.open\u001b[0;34m()\u001b[0m\n",
      "\u001b[0;31mOSError\u001b[0m: Unable to open file (file signature not found)"
     ]
    }
   ],
   "source": [
    "from tensorflow import keras\n",
    "model.load_weights('/Users/Abbas/Desktop/college/research work/dr_sheikh_abdullah/T_Keylogging.h5')"
   ]
  },
  {
   "cell_type": "markdown",
   "id": "e312832c",
   "metadata": {
    "papermill": {
     "duration": null,
     "end_time": null,
     "exception": null,
     "start_time": null,
     "status": "pending"
    },
    "tags": []
   },
   "source": [
    "# **Build ANN Model**"
   ]
  },
  {
   "cell_type": "markdown",
   "id": "32c1f6e6",
   "metadata": {
    "papermill": {
     "duration": null,
     "end_time": null,
     "exception": null,
     "start_time": null,
     "status": "pending"
    },
    "tags": []
   },
   "source": [
    "# **Transfer learning**"
   ]
  },
  {
   "cell_type": "code",
   "execution_count": 26,
   "id": "c4caa711",
   "metadata": {
    "execution": {
     "iopub.execute_input": "2022-11-03T08:58:12.942317Z",
     "iopub.status.busy": "2022-11-03T08:58:12.941614Z",
     "iopub.status.idle": "2022-11-03T08:58:13.110292Z",
     "shell.execute_reply": "2022-11-03T08:58:13.108599Z",
     "shell.execute_reply.started": "2022-11-03T08:58:12.942281Z"
    },
    "papermill": {
     "duration": null,
     "end_time": null,
     "exception": null,
     "start_time": null,
     "status": "pending"
    },
    "tags": []
   },
   "outputs": [
    {
     "data": {
      "text/plain": [
       "((523595, 67), (523595, 1))"
      ]
     },
     "execution_count": 26,
     "metadata": {},
     "output_type": "execute_result"
    }
   ],
   "source": [
    "X = df_num[features].values # using different input size(50)\n",
    "y = df_num[target].values # Target\n",
    "\n",
    "X=X.astype(np.float32)\n",
    "y=y.astype(np.float32)\n",
    "\n",
    "X.shape,y.shape,"
   ]
  },
  {
   "cell_type": "code",
   "execution_count": 27,
   "id": "b7e3ccdf",
   "metadata": {
    "execution": {
     "iopub.execute_input": "2022-11-03T08:58:18.524860Z",
     "iopub.status.busy": "2022-11-03T08:58:18.524374Z",
     "iopub.status.idle": "2022-11-03T08:58:18.896062Z",
     "shell.execute_reply": "2022-11-03T08:58:18.895063Z",
     "shell.execute_reply.started": "2022-11-03T08:58:18.524819Z"
    },
    "papermill": {
     "duration": null,
     "end_time": null,
     "exception": null,
     "start_time": null,
     "status": "pending"
    },
    "tags": []
   },
   "outputs": [],
   "source": [
    "from sklearn.model_selection import train_test_split\n",
    "X_train, X_test, y_train, y_test = train_test_split(X, y, test_size=0.2, random_state=13)"
   ]
  },
  {
   "cell_type": "code",
   "execution_count": 28,
   "id": "1136f8e7",
   "metadata": {
    "execution": {
     "iopub.execute_input": "2022-11-03T08:58:22.666671Z",
     "iopub.status.busy": "2022-11-03T08:58:22.666144Z",
     "iopub.status.idle": "2022-11-03T08:58:22.673873Z",
     "shell.execute_reply": "2022-11-03T08:58:22.672444Z",
     "shell.execute_reply.started": "2022-11-03T08:58:22.666631Z"
    },
    "papermill": {
     "duration": null,
     "end_time": null,
     "exception": null,
     "start_time": null,
     "status": "pending"
    },
    "tags": []
   },
   "outputs": [
    {
     "data": {
      "text/plain": [
       "((418876, 67), (104719, 67), (418876, 1), (104719, 1))"
      ]
     },
     "execution_count": 28,
     "metadata": {},
     "output_type": "execute_result"
    }
   ],
   "source": [
    "X_train.shape,X_test.shape,y_train.shape,y_test.shape"
   ]
  },
  {
   "cell_type": "markdown",
   "id": "2919cecd",
   "metadata": {
    "papermill": {
     "duration": null,
     "end_time": null,
     "exception": null,
     "start_time": null,
     "status": "pending"
    },
    "tags": []
   },
   "source": [
    "# ** Model**"
   ]
  },
  {
   "cell_type": "code",
   "execution_count": 29,
   "id": "bfa667c5",
   "metadata": {
    "execution": {
     "iopub.execute_input": "2022-11-03T08:58:27.342270Z",
     "iopub.status.busy": "2022-11-03T08:58:27.341911Z",
     "iopub.status.idle": "2022-11-03T08:58:27.411939Z",
     "shell.execute_reply": "2022-11-03T08:58:27.410996Z",
     "shell.execute_reply.started": "2022-11-03T08:58:27.342239Z"
    },
    "papermill": {
     "duration": null,
     "end_time": null,
     "exception": null,
     "start_time": null,
     "status": "pending"
    },
    "tags": []
   },
   "outputs": [
    {
     "name": "stderr",
     "output_type": "stream",
     "text": [
      "/Users/Abbas/anaconda3/lib/python3.11/site-packages/keras/src/optimizers/legacy/adam.py:118: UserWarning: The `lr` argument is deprecated, use `learning_rate` instead.\n",
      "  super().__init__(name, **kwargs)\n"
     ]
    }
   ],
   "source": [
    "def Create_Model_ANN(num_columns, num_labels,learning_rate):\n",
    "    model = Sequential()\n",
    "    model.add(Dense(64,input_dim=num_columns, activation='relu'))\n",
    "    model.add(Dense(128, activation='relu'))\n",
    "    model.add(Dense(256, activation='relu'))\n",
    "    model.add(Dense(512, activation='relu'))\n",
    "    model.add(Dense(256, activation='relu'))\n",
    "    model.add(Dense(128, activation='relu'))\n",
    "    model.add(Dense(64, activation='relu'))\n",
    "    model.add(Dense(num_labels,activation='sigmoid'))\n",
    "    \n",
    "    adam = Adam(lr=learning_rate, beta_1=0.9, beta_2=0.999, epsilon=1e-08, decay=0.0)\n",
    "    #adam = Adam(lr=learning_rate)\n",
    "    \n",
    "    model.compile(loss='binary_crossentropy', optimizer=adam,metrics=[keras.metrics.AUC(name='auc')])\n",
    "    \n",
    "    return model\n",
    "\n",
    "model = Create_Model_ANN(X_test.shape[1], 1,learning_rate)"
   ]
  },
  {
   "cell_type": "code",
   "execution_count": 30,
   "id": "06d6c0a8",
   "metadata": {
    "execution": {
     "iopub.execute_input": "2022-11-03T08:58:32.256237Z",
     "iopub.status.busy": "2022-11-03T08:58:32.255446Z",
     "iopub.status.idle": "2022-11-03T08:58:32.315730Z",
     "shell.execute_reply": "2022-11-03T08:58:32.314576Z",
     "shell.execute_reply.started": "2022-11-03T08:58:32.256195Z"
    },
    "papermill": {
     "duration": null,
     "end_time": null,
     "exception": null,
     "start_time": null,
     "status": "pending"
    },
    "tags": []
   },
   "outputs": [],
   "source": [
    "input_size=X_train.shape[1] # 50\n",
    "\n",
    "model_new = keras.Sequential()\n",
    "# Add input layer 50 \n",
    "\n",
    "w0=model.layers[0].get_weights()[0][:,:]\n",
    "b0=model.layers[0].get_weights()[1]\n",
    "\n",
    "model_new.add(Dense(64,input_dim=input_size, activation='relu'))\n",
    "model_new.layers[0].set_weights([w0, b0])\n",
    "\n",
    "# Add trained layers (with weight)\n",
    "for layer in model.layers[1:7]:\n",
    "    model_new.add(layer)\n",
    "    \n",
    "# add output layer  sigmoid or softmax..    \n",
    "model_new.add(Dense(1,activation='sigmoid'))\n",
    "#model_new.layers[0].set_weights([w0, b0])\n",
    "\n",
    "adam = Adam(lr=learning_rate)\n",
    "model_new.compile(loss='binary_crossentropy', optimizer=adam,metrics=[keras.metrics.AUC(name='auc')])"
   ]
  },
  {
   "cell_type": "code",
   "execution_count": 31,
   "id": "7ffb00e3",
   "metadata": {
    "execution": {
     "iopub.execute_input": "2022-11-03T08:58:37.458721Z",
     "iopub.status.busy": "2022-11-03T08:58:37.458345Z",
     "iopub.status.idle": "2022-11-03T08:58:37.465765Z",
     "shell.execute_reply": "2022-11-03T08:58:37.464549Z",
     "shell.execute_reply.started": "2022-11-03T08:58:37.458687Z"
    },
    "papermill": {
     "duration": null,
     "end_time": null,
     "exception": null,
     "start_time": null,
     "status": "pending"
    },
    "tags": []
   },
   "outputs": [
    {
     "name": "stdout",
     "output_type": "stream",
     "text": [
      "Model: \"sequential_3\"\n",
      "_________________________________________________________________\n",
      " Layer (type)                Output Shape              Param #   \n",
      "=================================================================\n",
      " dense_24 (Dense)            (None, 64)                4352      \n",
      "                                                                 \n",
      " dense_17 (Dense)            (None, 128)               8320      \n",
      "                                                                 \n",
      " dense_18 (Dense)            (None, 256)               33024     \n",
      "                                                                 \n",
      " dense_19 (Dense)            (None, 512)               131584    \n",
      "                                                                 \n",
      " dense_20 (Dense)            (None, 256)               131328    \n",
      "                                                                 \n",
      " dense_21 (Dense)            (None, 128)               32896     \n",
      "                                                                 \n",
      " dense_22 (Dense)            (None, 64)                8256      \n",
      "                                                                 \n",
      " dense_25 (Dense)            (None, 1)                 65        \n",
      "                                                                 \n",
      "=================================================================\n",
      "Total params: 349825 (1.33 MB)\n",
      "Trainable params: 349825 (1.33 MB)\n",
      "Non-trainable params: 0 (0.00 Byte)\n",
      "_________________________________________________________________\n",
      "None\n"
     ]
    }
   ],
   "source": [
    "print(model_new.summary())"
   ]
  },
  {
   "cell_type": "code",
   "execution_count": 32,
   "id": "266b0ebe",
   "metadata": {
    "execution": {
     "iopub.execute_input": "2022-11-03T08:58:41.634180Z",
     "iopub.status.busy": "2022-11-03T08:58:41.633774Z",
     "iopub.status.idle": "2022-11-03T09:01:04.295559Z",
     "shell.execute_reply": "2022-11-03T09:01:04.294491Z",
     "shell.execute_reply.started": "2022-11-03T08:58:41.634143Z"
    },
    "papermill": {
     "duration": null,
     "end_time": null,
     "exception": null,
     "start_time": null,
     "status": "pending"
    },
    "tags": []
   },
   "outputs": [
    {
     "name": "stdout",
     "output_type": "stream",
     "text": [
      "Epoch 1/25\n"
     ]
    },
    {
     "ename": "",
     "evalue": "",
     "output_type": "error",
     "traceback": [
      "\u001b[1;31mThe Kernel crashed while executing code in the current cell or a previous cell. \n",
      "\u001b[1;31mPlease review the code in the cell(s) to identify a possible cause of the failure. \n",
      "\u001b[1;31mClick <a href='https://aka.ms/vscodeJupyterKernelCrash'>here</a> for more info. \n",
      "\u001b[1;31mView Jupyter <a href='command:jupyter.viewOutput'>log</a> for further details."
     ]
    }
   ],
   "source": [
    "history_new=model_new.fit(X_train,\n",
    "          y_train,\n",
    "          validation_data=(X_test,y_test),\n",
    "          callbacks = [model_save, early_stop, reduce_lr],\n",
    "          verbose=1,\n",
    "          batch_size=batch_size,\n",
    "          epochs=epochs)"
   ]
  },
  {
   "cell_type": "markdown",
   "id": "8a2b6e28",
   "metadata": {
    "papermill": {
     "duration": null,
     "end_time": null,
     "exception": null,
     "start_time": null,
     "status": "pending"
    },
    "tags": []
   },
   "source": [
    "# **Evaluation**"
   ]
  },
  {
   "cell_type": "code",
   "execution_count": null,
   "id": "d33c12a4",
   "metadata": {
    "execution": {
     "iopub.execute_input": "2022-11-03T09:14:52.591554Z",
     "iopub.status.busy": "2022-11-03T09:14:52.591138Z",
     "iopub.status.idle": "2022-11-03T09:14:57.856216Z",
     "shell.execute_reply": "2022-11-03T09:14:57.855222Z",
     "shell.execute_reply.started": "2022-11-03T09:14:52.591503Z"
    },
    "papermill": {
     "duration": null,
     "end_time": null,
     "exception": null,
     "start_time": null,
     "status": "pending"
    },
    "tags": []
   },
   "outputs": [
    {
     "ename": "NameError",
     "evalue": "name 'model_new' is not defined",
     "output_type": "error",
     "traceback": [
      "\u001b[0;31m---------------------------------------------------------------------------\u001b[0m",
      "\u001b[0;31mNameError\u001b[0m                                 Traceback (most recent call last)",
      "Cell \u001b[0;32mIn[1], line 1\u001b[0m\n\u001b[0;32m----> 1\u001b[0m y_pred \u001b[38;5;241m=\u001b[39m model_new\u001b[38;5;241m.\u001b[39mpredict(X_test)\n\u001b[1;32m      2\u001b[0m AUC \u001b[38;5;241m=\u001b[39m metrics\u001b[38;5;241m.\u001b[39mroc_auc_score(y_test,y_pred)\n\u001b[1;32m      3\u001b[0m \u001b[38;5;28mprint\u001b[39m(\u001b[38;5;124m\"\u001b[39m\u001b[38;5;124mAUC: \u001b[39m\u001b[38;5;132;01m{:.3f}\u001b[39;00m\u001b[38;5;124m\"\u001b[39m\u001b[38;5;241m.\u001b[39mformat(AUC))\n",
      "\u001b[0;31mNameError\u001b[0m: name 'model_new' is not defined"
     ]
    }
   ],
   "source": [
    "y_pred = model_new.predict(X_test)\n",
    "AUC = metrics.roc_auc_score(y_test,y_pred)\n",
    "print(\"AUC: {:.3f}\".format(AUC))\n"
   ]
  },
  {
   "cell_type": "code",
   "execution_count": null,
   "id": "826662ca",
   "metadata": {
    "execution": {
     "iopub.execute_input": "2022-11-03T09:15:02.314105Z",
     "iopub.status.busy": "2022-11-03T09:15:02.313293Z",
     "iopub.status.idle": "2022-11-03T09:15:02.323312Z",
     "shell.execute_reply": "2022-11-03T09:15:02.322325Z",
     "shell.execute_reply.started": "2022-11-03T09:15:02.314054Z"
    },
    "papermill": {
     "duration": null,
     "end_time": null,
     "exception": null,
     "start_time": null,
     "status": "pending"
    },
    "tags": []
   },
   "outputs": [],
   "source": [
    "hist_df1 = pd.DataFrame(history_new.history)\n",
    "hist_df1.to_csv('history_new.csv')"
   ]
  },
  {
   "cell_type": "code",
   "execution_count": null,
   "id": "677ff8f5",
   "metadata": {
    "execution": {
     "iopub.execute_input": "2022-11-03T09:15:11.030184Z",
     "iopub.status.busy": "2022-11-03T09:15:11.029463Z",
     "iopub.status.idle": "2022-11-03T09:15:11.251887Z",
     "shell.execute_reply": "2022-11-03T09:15:11.250990Z",
     "shell.execute_reply.started": "2022-11-03T09:15:11.030148Z"
    },
    "papermill": {
     "duration": null,
     "end_time": null,
     "exception": null,
     "start_time": null,
     "status": "pending"
    },
    "tags": []
   },
   "outputs": [],
   "source": [
    "plt.figure(figsize=(15,5))\n",
    "plt.plot(range(history_new.epoch[-1]+1),history_new.history['val_auc'],label='val_auc')\n",
    "plt.plot(range(history_new.epoch[-1]+1),history_new.history['auc'],label='auc')\n",
    "plt.title('auc'); plt.xlabel('Epoch'); plt.ylabel('auc');plt.legend(); \n",
    "plt.show()"
   ]
  },
  {
   "cell_type": "code",
   "execution_count": null,
   "id": "00e4a5c7",
   "metadata": {
    "execution": {
     "iopub.execute_input": "2022-11-03T09:15:16.085945Z",
     "iopub.status.busy": "2022-11-03T09:15:16.085568Z",
     "iopub.status.idle": "2022-11-03T09:15:16.303359Z",
     "shell.execute_reply": "2022-11-03T09:15:16.302406Z",
     "shell.execute_reply.started": "2022-11-03T09:15:16.085915Z"
    },
    "papermill": {
     "duration": null,
     "end_time": null,
     "exception": null,
     "start_time": null,
     "status": "pending"
    },
    "tags": []
   },
   "outputs": [],
   "source": [
    "plt.figure(figsize=(15,5))\n",
    "plt.plot(range(history_new.epoch[-1]+1),history_new.history['val_loss'],label='Val_loss')\n",
    "plt.plot(range(history_new.epoch[-1]+1),history_new.history['loss'],label='loss')\n",
    "plt.title('loss'); plt.xlabel('Epoch'); plt.ylabel('loss');plt.legend(); \n",
    "plt.show()"
   ]
  },
  {
   "cell_type": "code",
   "execution_count": null,
   "id": "4205653b",
   "metadata": {
    "execution": {
     "iopub.execute_input": "2022-11-03T09:15:20.931262Z",
     "iopub.status.busy": "2022-11-03T09:15:20.930886Z",
     "iopub.status.idle": "2022-11-03T09:15:21.144678Z",
     "shell.execute_reply": "2022-11-03T09:15:21.143665Z",
     "shell.execute_reply.started": "2022-11-03T09:15:20.931230Z"
    },
    "papermill": {
     "duration": null,
     "end_time": null,
     "exception": null,
     "start_time": null,
     "status": "pending"
    },
    "tags": []
   },
   "outputs": [],
   "source": [
    "def generate_results(y_test, y_score):\n",
    "    # print(y_score)\n",
    "    fpr, tpr, _ = roc_curve(y_test, y_score)\n",
    "    roc_auc = auc(fpr, tpr)\n",
    "    plt.figure()\n",
    "    plt.plot(fpr, tpr, color='darkorange',\n",
    "             lw=2, label='ROC curve (area = %0.2f)' % roc_auc)\n",
    "    plt.plot([0, 1], [0, 1], color='navy', lw=2, linestyle='--')\n",
    "    plt.xlim([0.0, 1.0])\n",
    "    plt.ylim([0.0, 1.05])\n",
    "    plt.xlabel('False Positive Rate')\n",
    "    plt.ylabel('True Positive Rate')\n",
    "    plt.title('ROC Curve')\n",
    "    plt.legend(loc=\"lower right\")\n",
    "    plt.show()\n",
    "    \n",
    "generate_results(y_test, y_pred)"
   ]
  }
 ],
 "metadata": {
  "kernelspec": {
   "display_name": "Python 3",
   "language": "python",
   "name": "python3"
  },
  "language_info": {
   "codemirror_mode": {
    "name": "ipython",
    "version": 3
   },
   "file_extension": ".py",
   "mimetype": "text/x-python",
   "name": "python",
   "nbconvert_exporter": "python",
   "pygments_lexer": "ipython3",
   "version": "3.11.5"
  },
  "papermill": {
   "default_parameters": {},
   "duration": 179.418275,
   "end_time": "2022-11-03T12:56:37.674960",
   "environment_variables": {},
   "exception": true,
   "input_path": "__notebook__.ipynb",
   "output_path": "__notebook__.ipynb",
   "parameters": {},
   "start_time": "2022-11-03T12:53:38.256685",
   "version": "2.3.4"
  }
 },
 "nbformat": 4,
 "nbformat_minor": 5
}
